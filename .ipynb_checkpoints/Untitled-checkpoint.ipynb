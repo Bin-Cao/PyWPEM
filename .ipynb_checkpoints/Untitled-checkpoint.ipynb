{
 "cells": [
  {
   "cell_type": "code",
   "execution_count": 1,
   "id": "88d32278",
   "metadata": {},
   "outputs": [],
   "source": [
    "from m3gnet.models import Relaxer"
   ]
  },
  {
   "cell_type": "code",
   "execution_count": 4,
   "id": "b4cdebc4",
   "metadata": {
    "scrolled": true
   },
   "outputs": [
    {
     "name": "stdout",
     "output_type": "stream",
     "text": [
      "WARNING:tensorflow:You are casting an input of type complex64 to an incompatible dtype float32.  This will discard the imaginary part and may not be what you intended.\n",
      "WARNING:tensorflow:You are casting an input of type complex64 to an incompatible dtype float32.  This will discard the imaginary part and may not be what you intended.\n",
      "WARNING:tensorflow:You are casting an input of type complex64 to an incompatible dtype float32.  This will discard the imaginary part and may not be what you intended.\n",
      "      Step     Time          Energy         fmax\n",
      "*Force-consistent energies used in optimization.\n",
      "FIRE:    0 12:57:59      -21.330704*      10.2491\n",
      "WARNING:tensorflow:You are casting an input of type complex64 to an incompatible dtype float32.  This will discard the imaginary part and may not be what you intended.\n",
      "WARNING:tensorflow:You are casting an input of type complex64 to an incompatible dtype float32.  This will discard the imaginary part and may not be what you intended.\n",
      "FIRE:    1 12:58:01      -20.743158*      20.4843\n",
      "FIRE:    2 12:58:01      -21.694870*       2.4213\n",
      "FIRE:    3 12:58:01      -21.208538*      11.5265\n",
      "FIRE:    4 12:58:01      -21.353798*       9.9676\n",
      "FIRE:    5 12:58:01      -21.562597*       6.5603\n",
      "FIRE:    6 12:58:01      -21.702246*       2.0209\n",
      "FIRE:    7 12:58:01      -21.696190*       2.3511\n",
      "FIRE:    8 12:58:01      -21.697779*       2.2639\n",
      "FIRE:    9 12:58:01      -21.700722*       2.0934\n",
      "FIRE:   10 12:58:01      -21.704586*       1.8471\n",
      "FIRE:   11 12:58:01      -21.708820*       1.5354\n",
      "FIRE:   12 12:58:01      -21.712814*       1.1708\n",
      "FIRE:   13 12:58:01      -21.716007*       0.7668\n",
      "FIRE:   14 12:58:01      -21.717949*       0.3373\n",
      "FIRE:   15 12:58:01      -21.718319*       0.1499\n",
      "FIRE:   16 12:58:01      -21.718323*       0.1483\n",
      "FIRE:   17 12:58:01      -21.718330*       0.1450\n",
      "FIRE:   18 12:58:01      -21.718334*       0.1403\n",
      "FIRE:   19 12:58:01      -21.718342*       0.1339\n",
      "FIRE:   20 12:58:01      -21.718349*       0.1262\n",
      "FIRE:   21 12:58:01      -21.718361*       0.1170\n",
      "FIRE:   22 12:58:01      -21.718367*       0.1067\n",
      "FIRE:   23 12:58:01      -21.718380*       0.0938\n",
      "Relaxed lattice parameter is 3.169 Å\n",
      "Final energy is -10.859 eV/atom\n"
     ]
    }
   ],
   "source": [
    "import warnings\n",
    "from pymatgen.core import Lattice, Structure\n",
    "\n",
    "for category in (UserWarning, DeprecationWarning):\n",
    "    warnings.filterwarnings(\"ignore\", category=category, module=\"tensorflow\")\n",
    "\n",
    "# Init a Mo structure with stretched lattice (DFT lattice constant ~ 3.168)\n",
    "mo = Structure(Lattice.cubic(3.3), [\"Mo\", \"Mo\"], [[0., 0., 0.], [0.5, 0.5, 0.5]])\n",
    "\n",
    "relaxer = Relaxer()  # This loads the default pre-trained model\n",
    "\n",
    "relax_results = relaxer.relax(mo, verbose=True)\n",
    "\n",
    "final_structure = relax_results['final_structure']\n",
    "final_energy_per_atom = float(relax_results['trajectory'].energies[-1] / len(mo))\n",
    "\n",
    "print(f\"Relaxed lattice parameter is {final_structure.lattice.abc[0]:.3f} Å\")\n",
    "print(f\"Final energy is {final_energy_per_atom:.3f} eV/atom\")"
   ]
  },
  {
   "cell_type": "code",
   "execution_count": 5,
   "id": "3e049000",
   "metadata": {},
   "outputs": [],
   "source": [
    "mo = Structure(Lattice.cubic(3.3), [\"Mo\", \"Mo\"], [[0., 0., 0.], [0.5, 0.5, 0.5]])"
   ]
  },
  {
   "cell_type": "code",
   "execution_count": 8,
   "id": "d4bbe017",
   "metadata": {},
   "outputs": [
    {
     "data": {
      "text/plain": [
       "pymatgen.core.structure.Structure"
      ]
     },
     "execution_count": 8,
     "metadata": {},
     "output_type": "execute_result"
    }
   ],
   "source": [
    "type(\n",
    "    \n",
    "    \n",
    "mo"
   ]
  },
  {
   "cell_type": "code",
   "execution_count": 7,
   "id": "5434fc30",
   "metadata": {},
   "outputs": [
    {
     "data": {
      "text/plain": [
       "Lattice\n",
       "    abc : 3.3 3.3 3.3\n",
       " angles : 90.0 90.0 90.0\n",
       " volume : 35.937\n",
       "      A : 3.3 0.0 0.0\n",
       "      B : 0.0 3.3 0.0\n",
       "      C : 0.0 0.0 3.3\n",
       "    pbc : True True True"
      ]
     },
     "execution_count": 7,
     "metadata": {},
     "output_type": "execute_result"
    }
   ],
   "source": [
    "Lattice.cubic(3.3)"
   ]
  },
  {
   "cell_type": "code",
   "execution_count": 9,
   "id": "ad896c3a",
   "metadata": {},
   "outputs": [
    {
     "ename": "SyntaxError",
     "evalue": "invalid syntax (707536792.py, line 2)",
     "output_type": "error",
     "traceback": [
      "\u001b[0;36m  Cell \u001b[0;32mIn[9], line 2\u001b[0;36m\u001b[0m\n\u001b[0;31m    abc : 3.3 3.3 3.3,\u001b[0m\n\u001b[0m        ^\u001b[0m\n\u001b[0;31mSyntaxError\u001b[0m\u001b[0;31m:\u001b[0m invalid syntax\n"
     ]
    }
   ],
   "source": [
    "[Lattice\n",
    "    abc : 3.3 3.3 3.3\n",
    " angles : 90.0 90.0 90.0\n",
    " volume : 35.937\n",
    "      A : 3.3 0.0 0.0\n",
    "      B : 0.0 3.3 0.0\n",
    "      C : 0.0 0.0 3.3]"
   ]
  },
  {
   "cell_type": "code",
   "execution_count": 10,
   "id": "90ee2682",
   "metadata": {},
   "outputs": [
    {
     "name": "stdout",
     "output_type": "stream",
     "text": [
      "原子元素: ['Cu', 'O', 'Cu']\n",
      "坐标: [[0, 0, 0], [0.5, 1, 1], [0, 0, 1]]\n"
     ]
    }
   ],
   "source": [
    "def process_data(input_data):\n",
    "    elements = []\n",
    "    coordinates = []\n",
    "\n",
    "    for item in input_data:\n",
    "        # 提取原子元素\n",
    "        element = ''.join(filter(str.isalpha, item[0]))\n",
    "        elements.append(element)\n",
    "\n",
    "        # 提取坐标\n",
    "        coordinates.append(item[1:])\n",
    "\n",
    "    return elements, coordinates\n",
    "\n",
    "# 示例输入数据\n",
    "input_data = [['Cu2+', 0, 0, 0], ['O-2', 0.5, 1, 1], ['Cu2+', 0, 0, 1]]\n",
    "\n",
    "# 处理数据\n",
    "result_elements, result_coordinates = process_data(input_data)\n",
    "\n",
    "# 打印结果\n",
    "print(\"原子元素:\", result_elements)\n",
    "print(\"坐标:\", result_coordinates)\n"
   ]
  },
  {
   "cell_type": "code",
   "execution_count": 1,
   "id": "8747d516",
   "metadata": {},
   "outputs": [
    {
     "ename": "ModuleNotFoundError",
     "evalue": "No module named 'm3gnet'",
     "output_type": "error",
     "traceback": [
      "\u001b[0;31m---------------------------------------------------------------------------\u001b[0m",
      "\u001b[0;31mModuleNotFoundError\u001b[0m                       Traceback (most recent call last)",
      "Cell \u001b[0;32mIn[1], line 5\u001b[0m\n\u001b[1;32m      3\u001b[0m Yourdir \u001b[38;5;241m=\u001b[39m \u001b[38;5;124m'\u001b[39m\u001b[38;5;124m/Users/jacob/Documents/GitHub/\u001b[39m\u001b[38;5;124m'\u001b[39m\n\u001b[1;32m      4\u001b[0m sys\u001b[38;5;241m.\u001b[39mpath\u001b[38;5;241m.\u001b[39mappend(Yourdir)\n\u001b[0;32m----> 5\u001b[0m \u001b[38;5;28;01mfrom\u001b[39;00m \u001b[38;5;21;01mPyWPEM\u001b[39;00m \u001b[38;5;28;01mimport\u001b[39;00m WPEM\n",
      "File \u001b[0;32m~/Documents/GitHub/PyWPEM/WPEM.py:75\u001b[0m\n\u001b[1;32m      1\u001b[0m \u001b[38;5;124;03m\"\"\"                                    \u001b[39;00m\n\u001b[1;32m      2\u001b[0m \u001b[38;5;124;03mmodule WPEM: The main call interface of WPEM, including the following functions and subroutines.\u001b[39;00m\n\u001b[1;32m      3\u001b[0m \n\u001b[0;32m   (...)\u001b[0m\n\u001b[1;32m     72\u001b[0m \u001b[38;5;124;03m... developing\u001b[39;00m\n\u001b[1;32m     73\u001b[0m \u001b[38;5;124;03m\"\"\"\u001b[39;00m\n\u001b[0;32m---> 75\u001b[0m \u001b[38;5;28;01mfrom\u001b[39;00m \u001b[38;5;21;01m.\u001b[39;00m\u001b[38;5;21;01mEMBraggOpt\u001b[39;00m\u001b[38;5;21;01m.\u001b[39;00m\u001b[38;5;21;01mEMBraggSolver\u001b[39;00m \u001b[38;5;28;01mimport\u001b[39;00m WPEMsolver\n\u001b[1;32m     76\u001b[0m \u001b[38;5;28;01mfrom\u001b[39;00m \u001b[38;5;21;01m.\u001b[39;00m\u001b[38;5;21;01mBackground\u001b[39;00m\u001b[38;5;21;01m.\u001b[39;00m\u001b[38;5;21;01mBacDeduct\u001b[39;00m \u001b[38;5;28;01mimport\u001b[39;00m TwiceFilter\n\u001b[1;32m     77\u001b[0m \u001b[38;5;28;01mfrom\u001b[39;00m \u001b[38;5;21;01m.\u001b[39;00m\u001b[38;5;21;01mAmorphous\u001b[39;00m\u001b[38;5;21;01m.\u001b[39;00m\u001b[38;5;21;01mfitting\u001b[39;00m\u001b[38;5;21;01m.\u001b[39;00m\u001b[38;5;21;01mAmorphousFitting\u001b[39;00m \u001b[38;5;28;01mimport\u001b[39;00m Amorphous_fitting\n",
      "File \u001b[0;32m~/Documents/GitHub/PyWPEM/EMBraggOpt/EMBraggSolver.py:14\u001b[0m\n\u001b[1;32m     12\u001b[0m \u001b[38;5;28;01mfrom\u001b[39;00m \u001b[38;5;21;01m.\u001b[39;00m\u001b[38;5;21;01mWPEMFuns\u001b[39;00m\u001b[38;5;21;01m.\u001b[39;00m\u001b[38;5;21;01mSolverFuns\u001b[39;00m \u001b[38;5;28;01mimport\u001b[39;00m \u001b[38;5;241m*\u001b[39m\n\u001b[1;32m     13\u001b[0m \u001b[38;5;28;01mfrom\u001b[39;00m \u001b[38;5;21;01m.\u001b[39;00m\u001b[38;5;21;01mBraggLawDerivation\u001b[39;00m \u001b[38;5;28;01mimport\u001b[39;00m BraggLawDerivation\n\u001b[0;32m---> 14\u001b[0m \u001b[38;5;28;01mfrom\u001b[39;00m \u001b[38;5;21;01m.\u001b[39;00m\u001b[38;5;21;01m.\u001b[39;00m\u001b[38;5;21;01mRefinement\u001b[39;00m\u001b[38;5;21;01m.\u001b[39;00m\u001b[38;5;21;01mVolumeFractionDertermination\u001b[39;00m \u001b[38;5;28;01mimport\u001b[39;00m VandMFraction\n\u001b[1;32m     15\u001b[0m \u001b[38;5;28;01mimport\u001b[39;00m \u001b[38;5;21;01mtime\u001b[39;00m\n\u001b[1;32m     16\u001b[0m \u001b[38;5;28;01mimport\u001b[39;00m \u001b[38;5;21;01mos\u001b[39;00m\n",
      "File \u001b[0;32m~/Documents/GitHub/PyWPEM/Refinement/VolumeFractionDertermination.py:9\u001b[0m\n\u001b[1;32m      7\u001b[0m \u001b[38;5;28;01mimport\u001b[39;00m \u001b[38;5;21;01mos\u001b[39;00m\n\u001b[1;32m      8\u001b[0m \u001b[38;5;28;01mimport\u001b[39;00m \u001b[38;5;21;01mre\u001b[39;00m\n\u001b[0;32m----> 9\u001b[0m \u001b[38;5;28;01mfrom\u001b[39;00m \u001b[38;5;21;01m.\u001b[39;00m\u001b[38;5;21;01m.\u001b[39;00m\u001b[38;5;21;01mXRDSimulation\u001b[39;00m\u001b[38;5;21;01m.\u001b[39;00m\u001b[38;5;21;01mSimulation\u001b[39;00m \u001b[38;5;28;01mimport\u001b[39;00m cal_atoms\n\u001b[1;32m     10\u001b[0m \u001b[38;5;28;01mfrom\u001b[39;00m \u001b[38;5;21;01m.\u001b[39;00m\u001b[38;5;21;01m.\u001b[39;00m\u001b[38;5;21;01mExtinction\u001b[39;00m\u001b[38;5;21;01m.\u001b[39;00m\u001b[38;5;21;01mXRDpre\u001b[39;00m \u001b[38;5;28;01mimport\u001b[39;00m find_atomic_mass\n\u001b[1;32m     12\u001b[0m \u001b[38;5;28;01mclass\u001b[39;00m \u001b[38;5;21;01mVandMFraction\u001b[39;00m:\n",
      "File \u001b[0;32m~/Documents/GitHub/PyWPEM/XRDSimulation/Simulation.py:16\u001b[0m\n\u001b[1;32m     14\u001b[0m \u001b[38;5;28;01mimport\u001b[39;00m \u001b[38;5;21;01mitertools\u001b[39;00m\n\u001b[1;32m     15\u001b[0m \u001b[38;5;28;01mfrom\u001b[39;00m \u001b[38;5;21;01mscipy\u001b[39;00m\u001b[38;5;21;01m.\u001b[39;00m\u001b[38;5;21;01mspecial\u001b[39;00m \u001b[38;5;28;01mimport\u001b[39;00m wofz\n\u001b[0;32m---> 16\u001b[0m \u001b[38;5;28;01mfrom\u001b[39;00m \u001b[38;5;21;01m.\u001b[39;00m\u001b[38;5;21;01m.\u001b[39;00m\u001b[38;5;21;01mExtinction\u001b[39;00m\u001b[38;5;21;01m.\u001b[39;00m\u001b[38;5;21;01mXRDpre\u001b[39;00m \u001b[38;5;28;01mimport\u001b[39;00m profile\n\u001b[1;32m     17\u001b[0m \u001b[38;5;28;01mfrom\u001b[39;00m \u001b[38;5;21;01m.\u001b[39;00m\u001b[38;5;21;01mDiffractionGrometry\u001b[39;00m\u001b[38;5;21;01m.\u001b[39;00m\u001b[38;5;21;01matom\u001b[39;00m \u001b[38;5;28;01mimport\u001b[39;00m atomics\n\u001b[1;32m     18\u001b[0m \u001b[38;5;28;01mfrom\u001b[39;00m \u001b[38;5;21;01m.\u001b[39;00m\u001b[38;5;21;01m.\u001b[39;00m\u001b[38;5;21;01mEMBraggOpt\u001b[39;00m\u001b[38;5;21;01m.\u001b[39;00m\u001b[38;5;21;01mWPEMFuns\u001b[39;00m\u001b[38;5;21;01m.\u001b[39;00m\u001b[38;5;21;01mSolverFuns\u001b[39;00m \u001b[38;5;28;01mimport\u001b[39;00m theta_intensity_area\n",
      "File \u001b[0;32m~/Documents/GitHub/PyWPEM/Extinction/XRDpre.py:19\u001b[0m\n\u001b[1;32m     17\u001b[0m \u001b[38;5;28;01mfrom\u001b[39;00m \u001b[38;5;21;01m.\u001b[39;00m\u001b[38;5;21;01m.\u001b[39;00m\u001b[38;5;21;01mPlot\u001b[39;00m\u001b[38;5;21;01m.\u001b[39;00m\u001b[38;5;21;01mUnitCell\u001b[39;00m \u001b[38;5;28;01mimport\u001b[39;00m plotUnitCell\n\u001b[1;32m     18\u001b[0m \u001b[38;5;28;01mfrom\u001b[39;00m \u001b[38;5;21;01m.\u001b[39;00m\u001b[38;5;21;01m.\u001b[39;00m\u001b[38;5;21;01mEMBraggOpt\u001b[39;00m\u001b[38;5;21;01m.\u001b[39;00m\u001b[38;5;21;01mWPEMFuns\u001b[39;00m\u001b[38;5;21;01m.\u001b[39;00m\u001b[38;5;21;01mSolverFuns\u001b[39;00m \u001b[38;5;28;01mimport\u001b[39;00m cal_system\n\u001b[0;32m---> 19\u001b[0m \u001b[38;5;28;01mfrom\u001b[39;00m \u001b[38;5;21;01m.\u001b[39;00m\u001b[38;5;21;01mRelaxer\u001b[39;00m \u001b[38;5;28;01mimport\u001b[39;00m _Relaxer\n\u001b[1;32m     21\u001b[0m \u001b[38;5;28;01mclass\u001b[39;00m \u001b[38;5;21;01mprofile\u001b[39;00m:\n\u001b[1;32m     22\u001b[0m     \u001b[38;5;28;01mdef\u001b[39;00m \u001b[38;5;21m__init__\u001b[39m(\u001b[38;5;28mself\u001b[39m, wavelength\u001b[38;5;241m=\u001b[39m\u001b[38;5;124m'\u001b[39m\u001b[38;5;124mCuKa\u001b[39m\u001b[38;5;124m'\u001b[39m,two_theta_range\u001b[38;5;241m=\u001b[39m(\u001b[38;5;241m10\u001b[39m, \u001b[38;5;241m90\u001b[39m),show_unitcell\u001b[38;5;241m=\u001b[39m\u001b[38;5;28;01mFalse\u001b[39;00m,cal_extinction \u001b[38;5;241m=\u001b[39m \u001b[38;5;28;01mTrue\u001b[39;00m):\n",
      "File \u001b[0;32m~/Documents/GitHub/PyWPEM/Extinction/Relaxer.py:2\u001b[0m\n\u001b[1;32m      1\u001b[0m \u001b[38;5;28;01mimport\u001b[39;00m \u001b[38;5;21;01mwarnings\u001b[39;00m\n\u001b[0;32m----> 2\u001b[0m \u001b[38;5;28;01mfrom\u001b[39;00m \u001b[38;5;21;01m.\u001b[39;00m\u001b[38;5;21;01mm3gnet\u001b[39;00m\u001b[38;5;21;01m.\u001b[39;00m\u001b[38;5;21;01mmodels\u001b[39;00m \u001b[38;5;28;01mimport\u001b[39;00m Relaxer\n\u001b[1;32m      3\u001b[0m \u001b[38;5;28;01mfrom\u001b[39;00m \u001b[38;5;21;01mpymatgen\u001b[39;00m\u001b[38;5;21;01m.\u001b[39;00m\u001b[38;5;21;01mcore\u001b[39;00m \u001b[38;5;28;01mimport\u001b[39;00m Lattice, Structure\n\u001b[1;32m      4\u001b[0m \u001b[38;5;28;01mimport\u001b[39;00m \u001b[38;5;21;01mnumpy\u001b[39;00m \u001b[38;5;28;01mas\u001b[39;00m \u001b[38;5;21;01mnp\u001b[39;00m\n",
      "File \u001b[0;32m~/Documents/GitHub/PyWPEM/Extinction/m3gnet/models/__init__.py:5\u001b[0m\n\u001b[1;32m      1\u001b[0m \u001b[38;5;124;03m\"\"\"\u001b[39;00m\n\u001b[1;32m      2\u001b[0m \u001b[38;5;124;03mGraph pretrained\u001b[39;00m\n\u001b[1;32m      3\u001b[0m \u001b[38;5;124;03m\"\"\"\u001b[39;00m\n\u001b[1;32m      4\u001b[0m \u001b[38;5;28;01mfrom\u001b[39;00m \u001b[38;5;21;01m.\u001b[39;00m\u001b[38;5;21;01m_base\u001b[39;00m \u001b[38;5;28;01mimport\u001b[39;00m BasePotential, GraphModelMixin, Potential\n\u001b[0;32m----> 5\u001b[0m \u001b[38;5;28;01mfrom\u001b[39;00m \u001b[38;5;21;01m.\u001b[39;00m\u001b[38;5;21;01m_dynamics\u001b[39;00m \u001b[38;5;28;01mimport\u001b[39;00m M3GNetCalculator, MolecularDynamics, Relaxer\n\u001b[1;32m      6\u001b[0m \u001b[38;5;28;01mfrom\u001b[39;00m \u001b[38;5;21;01m.\u001b[39;00m\u001b[38;5;21;01m_m3gnet\u001b[39;00m \u001b[38;5;28;01mimport\u001b[39;00m M3GNet\n\u001b[1;32m      8\u001b[0m __all__ \u001b[38;5;241m=\u001b[39m [\n\u001b[1;32m      9\u001b[0m     \u001b[38;5;124m\"\u001b[39m\u001b[38;5;124mGraphModelMixin\u001b[39m\u001b[38;5;124m\"\u001b[39m,\n\u001b[1;32m     10\u001b[0m     \u001b[38;5;124m\"\u001b[39m\u001b[38;5;124mBasePotential\u001b[39m\u001b[38;5;124m\"\u001b[39m,\n\u001b[0;32m   (...)\u001b[0m\n\u001b[1;32m     15\u001b[0m     \u001b[38;5;124m\"\u001b[39m\u001b[38;5;124mMolecularDynamics\u001b[39m\u001b[38;5;124m\"\u001b[39m,\n\u001b[1;32m     16\u001b[0m ]\n",
      "File \u001b[0;32m~/Documents/GitHub/PyWPEM/Extinction/m3gnet/models/_dynamics.py:29\u001b[0m\n\u001b[1;32m     26\u001b[0m \u001b[38;5;28;01mfrom\u001b[39;00m \u001b[38;5;21;01mpymatgen\u001b[39;00m\u001b[38;5;21;01m.\u001b[39;00m\u001b[38;5;21;01mio\u001b[39;00m\u001b[38;5;21;01m.\u001b[39;00m\u001b[38;5;21;01mase\u001b[39;00m \u001b[38;5;28;01mimport\u001b[39;00m AseAtomsAdaptor\n\u001b[1;32m     28\u001b[0m \u001b[38;5;28;01mfrom\u001b[39;00m \u001b[38;5;21;01m.\u001b[39;00m\u001b[38;5;21;01m_base\u001b[39;00m \u001b[38;5;28;01mimport\u001b[39;00m Potential\n\u001b[0;32m---> 29\u001b[0m \u001b[38;5;28;01mfrom\u001b[39;00m \u001b[38;5;21;01m.\u001b[39;00m\u001b[38;5;21;01m_m3gnet\u001b[39;00m \u001b[38;5;28;01mimport\u001b[39;00m M3GNet\n\u001b[1;32m     31\u001b[0m OPTIMIZERS \u001b[38;5;241m=\u001b[39m {\n\u001b[1;32m     32\u001b[0m     \u001b[38;5;124m\"\u001b[39m\u001b[38;5;124mFIRE\u001b[39m\u001b[38;5;124m\"\u001b[39m: FIRE,\n\u001b[1;32m     33\u001b[0m     \u001b[38;5;124m\"\u001b[39m\u001b[38;5;124mBFGS\u001b[39m\u001b[38;5;124m\"\u001b[39m: BFGS,\n\u001b[0;32m   (...)\u001b[0m\n\u001b[1;32m     39\u001b[0m     \u001b[38;5;124m\"\u001b[39m\u001b[38;5;124mBFGSLineSearch\u001b[39m\u001b[38;5;124m\"\u001b[39m: BFGSLineSearch,\n\u001b[1;32m     40\u001b[0m }\n\u001b[1;32m     43\u001b[0m \u001b[38;5;28;01mclass\u001b[39;00m \u001b[38;5;21;01mM3GNetCalculator\u001b[39;00m(Calculator):\n",
      "File \u001b[0;32m~/Documents/GitHub/PyWPEM/Extinction/m3gnet/models/_m3gnet.py:14\u001b[0m\n\u001b[1;32m     11\u001b[0m \u001b[38;5;28;01mimport\u001b[39;00m \u001b[38;5;21;01mtensorflow\u001b[39;00m \u001b[38;5;28;01mas\u001b[39;00m \u001b[38;5;21;01mtf\u001b[39;00m\n\u001b[1;32m     13\u001b[0m \u001b[38;5;28;01mfrom\u001b[39;00m \u001b[38;5;21;01m.\u001b[39;00m\u001b[38;5;21;01m.\u001b[39;00m\u001b[38;5;21;01m.\u001b[39;00m\u001b[38;5;21;01mm3gnet\u001b[39;00m\u001b[38;5;21;01m.\u001b[39;00m\u001b[38;5;21;01mgraph\u001b[39;00m \u001b[38;5;28;01mimport\u001b[39;00m Index, RadiusCutoffGraphConverter, tf_compute_distance_angle\n\u001b[0;32m---> 14\u001b[0m \u001b[38;5;28;01mfrom\u001b[39;00m \u001b[38;5;21;01m.\u001b[39;00m\u001b[38;5;21;01m.\u001b[39;00m\u001b[38;5;21;01m.\u001b[39;00m\u001b[38;5;21;01mm3gnet\u001b[39;00m\u001b[38;5;21;01m.\u001b[39;00m\u001b[38;5;21;01mlayers\u001b[39;00m \u001b[38;5;28;01mimport\u001b[39;00m (\n\u001b[1;32m     15\u001b[0m     MLP,\n\u001b[1;32m     16\u001b[0m     AtomReduceState,\n\u001b[1;32m     17\u001b[0m     AtomRef,\n\u001b[1;32m     18\u001b[0m     BaseAtomRef,\n\u001b[1;32m     19\u001b[0m     ConcatAtoms,\n\u001b[1;32m     20\u001b[0m     ConcatBondAtomState,\n\u001b[1;32m     21\u001b[0m     GatedAtomUpdate,\n\u001b[1;32m     22\u001b[0m     GatedMLP,\n\u001b[1;32m     23\u001b[0m     GraphFeaturizer,\n\u001b[1;32m     24\u001b[0m     GraphNetworkLayer,\n\u001b[1;32m     25\u001b[0m     GraphUpdateFunc,\n\u001b[1;32m     26\u001b[0m     MultiFieldReadout,\n\u001b[1;32m     27\u001b[0m     Pipe,\n\u001b[1;32m     28\u001b[0m     ReduceReadOut,\n\u001b[1;32m     29\u001b[0m     Set2Set,\n\u001b[1;32m     30\u001b[0m     SphericalBesselWithHarmonics,\n\u001b[1;32m     31\u001b[0m     StateNetwork,\n\u001b[1;32m     32\u001b[0m     ThreeDInteraction,\n\u001b[1;32m     33\u001b[0m     WeightedReadout,\n\u001b[1;32m     34\u001b[0m     polynomial,\n\u001b[1;32m     35\u001b[0m )\n\u001b[1;32m     36\u001b[0m \u001b[38;5;28;01mfrom\u001b[39;00m \u001b[38;5;21;01mm3gnet\u001b[39;00m\u001b[38;5;21;01m.\u001b[39;00m\u001b[38;5;21;01mutils\u001b[39;00m \u001b[38;5;28;01mimport\u001b[39;00m register_plain\n\u001b[1;32m     38\u001b[0m \u001b[38;5;28;01mfrom\u001b[39;00m \u001b[38;5;21;01m.\u001b[39;00m\u001b[38;5;21;01m_base\u001b[39;00m \u001b[38;5;28;01mimport\u001b[39;00m GraphModelMixin\n",
      "File \u001b[0;32m~/Documents/GitHub/PyWPEM/Extinction/m3gnet/layers/__init__.py:12\u001b[0m\n\u001b[1;32m     10\u001b[0m \u001b[38;5;28;01mfrom\u001b[39;00m \u001b[38;5;21;01m.\u001b[39;00m\u001b[38;5;21;01m_core\u001b[39;00m \u001b[38;5;28;01mimport\u001b[39;00m METHOD_MAPPING, MLP, Embedding, GatedMLP, Pipe\n\u001b[1;32m     11\u001b[0m \u001b[38;5;28;01mfrom\u001b[39;00m \u001b[38;5;21;01m.\u001b[39;00m\u001b[38;5;21;01m_cutoff\u001b[39;00m \u001b[38;5;28;01mimport\u001b[39;00m cosine, polynomial\n\u001b[0;32m---> 12\u001b[0m \u001b[38;5;28;01mfrom\u001b[39;00m \u001b[38;5;21;01m.\u001b[39;00m\u001b[38;5;21;01m_gn\u001b[39;00m \u001b[38;5;28;01mimport\u001b[39;00m GraphFeaturizer, GraphFieldEmbedding, GraphNetworkLayer\n\u001b[1;32m     13\u001b[0m \u001b[38;5;28;01mfrom\u001b[39;00m \u001b[38;5;21;01m.\u001b[39;00m\u001b[38;5;21;01m_readout\u001b[39;00m \u001b[38;5;28;01mimport\u001b[39;00m (\n\u001b[1;32m     14\u001b[0m     MultiFieldReadout,\n\u001b[1;32m     15\u001b[0m     ReadOut,\n\u001b[0;32m   (...)\u001b[0m\n\u001b[1;32m     18\u001b[0m     WeightedReadout,\n\u001b[1;32m     19\u001b[0m )\n\u001b[1;32m     20\u001b[0m \u001b[38;5;28;01mfrom\u001b[39;00m \u001b[38;5;21;01m.\u001b[39;00m\u001b[38;5;21;01m_state\u001b[39;00m \u001b[38;5;28;01mimport\u001b[39;00m ConcatBondAtomState, StateNetwork\n",
      "File \u001b[0;32m~/Documents/GitHub/PyWPEM/Extinction/m3gnet/layers/_gn.py:8\u001b[0m\n\u001b[1;32m      5\u001b[0m \u001b[38;5;28;01mfrom\u001b[39;00m \u001b[38;5;21;01mtyping\u001b[39;00m \u001b[38;5;28;01mimport\u001b[39;00m List, Optional\n\u001b[1;32m      7\u001b[0m \u001b[38;5;28;01mimport\u001b[39;00m \u001b[38;5;21;01mtensorflow\u001b[39;00m \u001b[38;5;28;01mas\u001b[39;00m \u001b[38;5;21;01mtf\u001b[39;00m\n\u001b[0;32m----> 8\u001b[0m \u001b[38;5;28;01mfrom\u001b[39;00m \u001b[38;5;21;01mm3gnet\u001b[39;00m\u001b[38;5;21;01m.\u001b[39;00m\u001b[38;5;21;01mutils\u001b[39;00m \u001b[38;5;28;01mimport\u001b[39;00m register\n\u001b[1;32m     10\u001b[0m \u001b[38;5;28;01mfrom\u001b[39;00m \u001b[38;5;21;01m.\u001b[39;00m\u001b[38;5;21;01m_atom\u001b[39;00m \u001b[38;5;28;01mimport\u001b[39;00m AtomNetwork\n\u001b[1;32m     11\u001b[0m \u001b[38;5;28;01mfrom\u001b[39;00m \u001b[38;5;21;01m.\u001b[39;00m\u001b[38;5;21;01m_base\u001b[39;00m \u001b[38;5;28;01mimport\u001b[39;00m GraphUpdate, GraphUpdateFunc\n",
      "\u001b[0;31mModuleNotFoundError\u001b[0m: No module named 'm3gnet'"
     ]
    }
   ],
   "source": [
    "import sys\n",
    "import pandas as pd\n",
    "Yourdir = '/Users/jacob/Documents/GitHub/'\n",
    "sys.path.append(Yourdir)\n",
    "from PyWPEM import WPEM"
   ]
  },
  {
   "cell_type": "code",
   "execution_count": null,
   "id": "2ee01dfe",
   "metadata": {},
   "outputs": [],
   "source": [
    "latt, AtomCoordinates,des = WPEM.CIFpreprocess(filepath='RuO2.cif',two_theta_range=(15,90),show_unitcell=True,)"
   ]
  },
  {
   "cell_type": "code",
   "execution_count": 13,
   "id": "6756180b",
   "metadata": {},
   "outputs": [
    {
     "name": "stdout",
     "output_type": "stream",
     "text": [
      "晶格常数:\n",
      "a: 10.0\n",
      "b: 9.433981132056603\n",
      "c: 12.0\n",
      "alpha: 90.0\n",
      "beta: 90.0\n",
      "gamma: 57.9946167919165\n"
     ]
    }
   ],
   "source": [
    "import numpy as np\n",
    "\n",
    "def calculate_lattice_constants(cell_matrix):\n",
    "    # 计算晶格常数\n",
    "    a = np.linalg.norm(cell_matrix[0])\n",
    "    b = np.linalg.norm(cell_matrix[1])\n",
    "    c = np.linalg.norm(cell_matrix[2])\n",
    "\n",
    "    alpha = np.degrees(np.arccos(np.dot(cell_matrix[1], cell_matrix[2]) / (b * c)))\n",
    "    beta = np.degrees(np.arccos(np.dot(cell_matrix[0], cell_matrix[2]) / (a * c)))\n",
    "    gamma = np.degrees(np.arccos(np.dot(cell_matrix[0], cell_matrix[1]) / (a * b)))\n",
    "\n",
    "    return a, b, c, alpha, beta, gamma\n",
    "\n",
    "# 示例使用\n",
    "cell_matrix = np.array([[10, 0, 0], [5, 8, 0], [0, 0, 12]])\n",
    "lattice_constants = calculate_lattice_constants(cell_matrix)\n",
    "\n",
    "print(\"晶格常数:\")\n",
    "print(\"a:\", lattice_constants[0])\n",
    "print(\"b:\", lattice_constants[1])\n",
    "print(\"c:\", lattice_constants[2])\n",
    "print(\"alpha:\", lattice_constants[3])\n",
    "print(\"beta:\", lattice_constants[4])\n",
    "print(\"gamma:\", lattice_constants[5])\n"
   ]
  },
  {
   "cell_type": "code",
   "execution_count": null,
   "id": "6af90452",
   "metadata": {},
   "outputs": [],
   "source": []
  }
 ],
 "metadata": {
  "kernelspec": {
   "display_name": "Python 3 (ipykernel)",
   "language": "python",
   "name": "python3"
  },
  "language_info": {
   "codemirror_mode": {
    "name": "ipython",
    "version": 3
   },
   "file_extension": ".py",
   "mimetype": "text/x-python",
   "name": "python",
   "nbconvert_exporter": "python",
   "pygments_lexer": "ipython3",
   "version": "3.9.12"
  }
 },
 "nbformat": 4,
 "nbformat_minor": 5
}
