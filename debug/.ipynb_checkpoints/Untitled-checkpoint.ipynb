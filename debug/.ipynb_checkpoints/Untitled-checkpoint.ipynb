{
 "cells": [
  {
   "cell_type": "code",
   "execution_count": 1,
   "id": "3006613b",
   "metadata": {},
   "outputs": [
    {
     "name": "stdout",
     "output_type": "stream",
     "text": [
      "A Diffraction Refinement Software : WPEM\n",
      "Bin Cao, MGI, Shanghai University, Shanghai, CHINA.\n",
      "URL : https://github.com/Bin-Cao/WPEM\n",
      "Executed on : 2023-06-17 16:48:31  Have a great day.\n",
      "\n",
      "\n",
      "the space group of input crystal is : I 2b 2c 3\n",
      "cif file parse completed\n",
      "retrieval of all reciprocal vectors satisfying the diffraction geometry is done\n",
      "extinction peaks are distinguished\n",
      "There are 27 extinction peaks\n",
      "Diffraction condition judgment end !\n",
      "Bgolearn : A Bayesian global optimization package\n",
      "__documents__ = https://bgolearn.netlify.app/\n",
      "__url__ = https://github.com/Bin-Cao/Bgolearn\n",
      "__author__ = Bin CAO : binjacobcao@gmail.com\n",
      "initial error is 25.83904306560159\n",
      "20\n",
      "20\n",
      "response_vector0 25.83904306560159\n",
      "feature_matrix [0.    1.    0.    0.25  0.25  0.25  0.    1.    0.    0.021 0.    0.25\n",
      " 0.    1.    0.    0.542 0.    0.25  1.    0.    0.    0.125 0.125 0.375\n",
      " 1.    0.    0.    0.125 0.375 0.375 0.    1.    0.    0.75  0.75  0.75\n",
      " 0.    1.    0.    0.479 0.    0.75  0.    1.    0.    0.25  0.021 0.\n",
      " 0.    1.    0.    0.75  0.479 0.    0.    1.    0.    0.    0.25  0.021\n",
      " 0.    1.    0.    0.    0.75  0.479 0.    1.    0.    0.521 0.5   0.75\n",
      " 0.    1.    0.    0.75  0.521 0.5   0.    1.    0.    0.5   0.75  0.521\n",
      " 0.    1.    0.    0.25  0.542 0.    0.    1.    0.    0.    0.25  0.542\n",
      " 1.    0.    0.    0.375 0.125 0.125 1.    0.    0.    0.125 0.375 0.125\n",
      " 1.    0.    0.    0.625 0.625 0.875 1.    0.    0.    0.875 0.625 0.625\n",
      " 1.    0.    0.    0.625 0.875 0.625 1.    0.    0.    0.375 0.125 0.375\n",
      " 1.    0.    0.    0.375 0.375 0.125 1.    0.    0.    0.625 0.875 0.875\n",
      " 1.    0.    0.    0.875 0.625 0.875 1.    0.    0.    0.875 0.875 0.625]\n",
      "29.963318595555435\n",
      "[0.    0.    1.    0.25  0.25  0.25  0.    1.    0.    0.021 0.    0.25\n",
      " 0.    0.    1.    0.542 0.    0.25  1.    0.    0.    0.125 0.125 0.375\n",
      " 1.    0.    0.    0.125 0.375 0.375 0.    0.    1.    0.75  0.75  0.75\n",
      " 0.    0.    1.    0.479 0.    0.75  0.    0.    1.    0.25  0.021 0.\n",
      " 0.    0.    1.    0.75  0.479 0.    0.    0.    1.    0.    0.25  0.021\n",
      " 0.    1.    0.    0.    0.75  0.479 0.    1.    0.    0.521 0.5   0.75\n",
      " 0.    0.    1.    0.75  0.521 0.5   0.    0.    1.    0.5   0.75  0.521\n",
      " 0.    1.    0.    0.25  0.542 0.    0.    0.    1.    0.    0.25  0.542\n",
      " 1.    0.    0.    0.375 0.125 0.125 1.    0.    0.    0.125 0.375 0.125\n",
      " 1.    0.    0.    0.625 0.625 0.875 1.    0.    0.    0.875 0.625 0.625\n",
      " 1.    0.    0.    0.625 0.875 0.625 1.    0.    0.    0.375 0.125 0.375\n",
      " 1.    0.    0.    0.375 0.375 0.125 1.    0.    0.    0.625 0.875 0.875\n",
      " 1.    0.    0.    0.875 0.625 0.875 1.    0.    0.    0.875 0.875 0.625]\n",
      "The internal model is instantiated with optimized homogenous noise\n"
     ]
    },
    {
     "ename": "ValueError",
     "evalue": "setting an array element with a sequence.",
     "output_type": "error",
     "traceback": [
      "\u001b[0;31m---------------------------------------------------------------------------\u001b[0m",
      "\u001b[0;31mTypeError\u001b[0m                                 Traceback (most recent call last)",
      "\u001b[0;31mTypeError\u001b[0m: only size-1 arrays can be converted to Python scalars",
      "\nThe above exception was the direct cause of the following exception:\n",
      "\u001b[0;31mValueError\u001b[0m                                Traceback (most recent call last)",
      "Cell \u001b[0;32mIn[1], line 10\u001b[0m\n\u001b[1;32m      5\u001b[0m sys\u001b[38;5;241m.\u001b[39mpath\u001b[38;5;241m.\u001b[39mappend(Yourdir)\n\u001b[1;32m      7\u001b[0m \u001b[38;5;28;01mfrom\u001b[39;00m \u001b[38;5;21;01mPyWPEM\u001b[39;00m \u001b[38;5;28;01mimport\u001b[39;00m WPEM\n\u001b[0;32m---> 10\u001b[0m \u001b[43mWPEM\u001b[49m\u001b[38;5;241;43m.\u001b[39;49m\u001b[43mSubstitutionalSearch\u001b[49m\u001b[43m(\u001b[49m\u001b[38;5;124;43m'\u001b[39;49m\u001b[38;5;124;43mwpem.csv\u001b[39;49m\u001b[38;5;124;43m'\u001b[39;49m\u001b[43m,\u001b[49m\u001b[38;5;124;43m'\u001b[39;49m\u001b[38;5;124;43mMn2O3.cif\u001b[39;49m\u001b[38;5;124;43m'\u001b[39;49m\u001b[43m,\u001b[49m\u001b[43mwavelength\u001b[49m\u001b[38;5;241;43m=\u001b[39;49m\u001b[38;5;124;43m'\u001b[39;49m\u001b[38;5;124;43mCuKa\u001b[39;49m\u001b[38;5;124;43m'\u001b[39;49m\u001b[43m,\u001b[49m\u001b[43mSolventAtom\u001b[49m\u001b[43m \u001b[49m\u001b[38;5;241;43m=\u001b[39;49m\u001b[43m \u001b[49m\u001b[38;5;124;43m'\u001b[39;49m\u001b[38;5;124;43mMn3+\u001b[39;49m\u001b[38;5;124;43m'\u001b[39;49m\u001b[43m,\u001b[49m\u001b[43m \u001b[49m\n\u001b[1;32m     11\u001b[0m \u001b[43m                          \u001b[49m\u001b[43mSoluteAtom\u001b[49m\u001b[38;5;241;43m=\u001b[39;49m\u001b[43m \u001b[49m\u001b[38;5;124;43m'\u001b[39;49m\u001b[38;5;124;43mRu\u001b[39;49m\u001b[38;5;124;43m'\u001b[39;49m\u001b[43m,\u001b[49m\u001b[43mmax_iter\u001b[49m\u001b[43m \u001b[49m\u001b[38;5;241;43m=\u001b[39;49m\u001b[43m \u001b[49m\u001b[38;5;241;43m100\u001b[39;49m\u001b[43m)\u001b[49m\n",
      "File \u001b[0;32m~/Documents/GitHub/PyWPEM/WPEM.py:305\u001b[0m, in \u001b[0;36mSubstitutionalSearch\u001b[0;34m(xrd_pattern, cif_file, wavelength, SolventAtom, SoluteAtom, max_iter)\u001b[0m\n\u001b[1;32m    304\u001b[0m \u001b[38;5;28;01mdef\u001b[39;00m \u001b[38;5;21mSubstitutionalSearch\u001b[39m(xrd_pattern, cif_file, wavelength\u001b[38;5;241m=\u001b[39m\u001b[38;5;124m'\u001b[39m\u001b[38;5;124mCuKa\u001b[39m\u001b[38;5;124m'\u001b[39m,SolventAtom \u001b[38;5;241m=\u001b[39m \u001b[38;5;28;01mNone\u001b[39;00m, SoluteAtom\u001b[38;5;241m=\u001b[39m \u001b[38;5;28;01mNone\u001b[39;00m,max_iter \u001b[38;5;241m=\u001b[39m \u001b[38;5;241m100\u001b[39m):\n\u001b[0;32m--> 305\u001b[0m     \u001b[38;5;28;01mreturn\u001b[39;00m \u001b[43mBgolearnOpt\u001b[49m\u001b[43m(\u001b[49m\u001b[43mxrd_pattern\u001b[49m\u001b[43m,\u001b[49m\u001b[43m \u001b[49m\u001b[43mcif_file\u001b[49m\u001b[43m,\u001b[49m\u001b[43m \u001b[49m\u001b[43mwavelength\u001b[49m\u001b[43m)\u001b[49m\u001b[38;5;241;43m.\u001b[39;49m\u001b[43m \u001b[49m\u001b[43mSubstitutional_SS\u001b[49m\u001b[43m(\u001b[49m\u001b[43mSolventAtom\u001b[49m\u001b[43m,\u001b[49m\u001b[43m \u001b[49m\u001b[43mSoluteAtom\u001b[49m\u001b[43m \u001b[49m\u001b[43m,\u001b[49m\u001b[43mmax_iter\u001b[49m\u001b[43m)\u001b[49m\n",
      "File \u001b[0;32m~/Documents/GitHub/PyWPEM/StructureOpt/SiteOpt.py:133\u001b[0m, in \u001b[0;36mBgolearnOpt.Substitutional_SS\u001b[0;34m(self, SolventAtom, SoluteAtom, max_iter)\u001b[0m\n\u001b[1;32m    131\u001b[0m \u001b[38;5;28mprint\u001b[39m(feature_matrix[\u001b[38;5;241m-\u001b[39m\u001b[38;5;241m1\u001b[39m])\n\u001b[1;32m    132\u001b[0m Bgolearn \u001b[38;5;241m=\u001b[39m BGOS\u001b[38;5;241m.\u001b[39mBgolearn() \n\u001b[0;32m--> 133\u001b[0m Mymodel \u001b[38;5;241m=\u001b[39m \u001b[43mBgolearn\u001b[49m\u001b[38;5;241;43m.\u001b[39;49m\u001b[43mfit\u001b[49m\u001b[43m(\u001b[49m\u001b[43mdata_matrix\u001b[49m\u001b[43m \u001b[49m\u001b[38;5;241;43m=\u001b[39;49m\u001b[43m \u001b[49m\u001b[43mfeature_matrix\u001b[49m\u001b[43m,\u001b[49m\u001b[43m \u001b[49m\u001b[43mMeasured_response\u001b[49m\u001b[43m \u001b[49m\u001b[38;5;241;43m=\u001b[39;49m\u001b[43m \u001b[49m\u001b[43mresponse_vector\u001b[49m\u001b[43m,\u001b[49m\u001b[43m \u001b[49m\u001b[43mvirtual_samples\u001b[49m\u001b[43m \u001b[49m\u001b[38;5;241;43m=\u001b[39;49m\u001b[43m \u001b[49m\u001b[43msearch_space\u001b[49m\u001b[43m)\u001b[49m\n\u001b[1;32m    134\u001b[0m _, data \u001b[38;5;241m=\u001b[39m Mymodel\u001b[38;5;241m.\u001b[39mEI()\n\u001b[1;32m    136\u001b[0m feature_matrix\u001b[38;5;241m.\u001b[39mappend(data[\u001b[38;5;241m0\u001b[39m])\n",
      "File \u001b[0;32m~/miniconda3/lib/python3.9/site-packages/Bgolearn/BGOsampling.py:283\u001b[0m, in \u001b[0;36mBgolearn.fit\u001b[0;34m(self, data_matrix, Measured_response, virtual_samples, Mission, Classifier, noise_std, Kriging_model, opt_num, min_search, CV_test)\u001b[0m\n\u001b[1;32m    281\u001b[0m \u001b[38;5;66;03m# BGO\u001b[39;00m\n\u001b[1;32m    282\u001b[0m \u001b[38;5;28;01mif\u001b[39;00m min_search \u001b[38;5;241m==\u001b[39m \u001b[38;5;28;01mTrue\u001b[39;00m:\n\u001b[0;32m--> 283\u001b[0m     BGOmodel \u001b[38;5;241m=\u001b[39m \u001b[43mGlobal_min\u001b[49m\u001b[43m(\u001b[49m\u001b[43mKriging_model\u001b[49m\u001b[43m,\u001b[49m\u001b[43mdata_matrix\u001b[49m\u001b[43m,\u001b[49m\u001b[43m \u001b[49m\u001b[43mMeasured_response\u001b[49m\u001b[43m,\u001b[49m\u001b[43m \u001b[49m\u001b[43mvirtual_samples\u001b[49m\u001b[43m,\u001b[49m\u001b[43m \u001b[49m\u001b[43mopt_num\u001b[49m\u001b[43m,\u001b[49m\u001b[43m \u001b[49m\u001b[43mret_noise\u001b[49m\u001b[43m)\u001b[49m\n\u001b[1;32m    284\u001b[0m \u001b[38;5;28;01melif\u001b[39;00m min_search \u001b[38;5;241m==\u001b[39m \u001b[38;5;28;01mFalse\u001b[39;00m: \n\u001b[1;32m    285\u001b[0m     BGOmodel \u001b[38;5;241m=\u001b[39m Global_max(Kriging_model,data_matrix, Measured_response, virtual_samples, opt_num, ret_noise)\n",
      "File \u001b[0;32m~/miniconda3/lib/python3.9/site-packages/Bgolearn/BGOmin.py:18\u001b[0m, in \u001b[0;36mGlobal_min.__init__\u001b[0;34m(self, Kriging_model, data_matrix, Measured_response, virtual_samples, opt_num, ret_noise)\u001b[0m\n\u001b[1;32m     16\u001b[0m \u001b[38;5;28mself\u001b[39m\u001b[38;5;241m.\u001b[39mvirtual_samples \u001b[38;5;241m=\u001b[39m np\u001b[38;5;241m.\u001b[39marray(virtual_samples)\u001b[38;5;241m.\u001b[39mreshape(\u001b[38;5;241m-\u001b[39m\u001b[38;5;241m1\u001b[39m,__fea_num)\n\u001b[1;32m     17\u001b[0m \u001b[38;5;28;01mif\u001b[39;00m ret_noise \u001b[38;5;241m==\u001b[39m \u001b[38;5;241m0\u001b[39m:\n\u001b[0;32m---> 18\u001b[0m     \u001b[38;5;28mself\u001b[39m\u001b[38;5;241m.\u001b[39mvirtual_samples_mean, \u001b[38;5;28mself\u001b[39m\u001b[38;5;241m.\u001b[39mvirtual_samples_std \u001b[38;5;241m=\u001b[39m \u001b[38;5;28;43mself\u001b[39;49m\u001b[38;5;241;43m.\u001b[39;49m\u001b[43mKriging_model\u001b[49m\u001b[43m(\u001b[49m\u001b[43m)\u001b[49m\u001b[38;5;241;43m.\u001b[39;49m\u001b[43mfit_pre\u001b[49m\u001b[43m(\u001b[49m\n\u001b[1;32m     19\u001b[0m \u001b[43m        \u001b[49m\u001b[38;5;28;43mself\u001b[39;49m\u001b[38;5;241;43m.\u001b[39;49m\u001b[43mdata_matrix\u001b[49m\u001b[43m,\u001b[49m\u001b[43m \u001b[49m\u001b[38;5;28;43mself\u001b[39;49m\u001b[38;5;241;43m.\u001b[39;49m\u001b[43mMeasured_response\u001b[49m\u001b[43m,\u001b[49m\u001b[43m \u001b[49m\u001b[38;5;28;43mself\u001b[39;49m\u001b[38;5;241;43m.\u001b[39;49m\u001b[43mvirtual_samples\u001b[49m\u001b[43m)\u001b[49m\n\u001b[1;32m     20\u001b[0m \u001b[38;5;28;01melse\u001b[39;00m:\n\u001b[1;32m     21\u001b[0m     \u001b[38;5;28mself\u001b[39m\u001b[38;5;241m.\u001b[39mvirtual_samples_mean, \u001b[38;5;28mself\u001b[39m\u001b[38;5;241m.\u001b[39mvirtual_samples_std \u001b[38;5;241m=\u001b[39m \u001b[38;5;28mself\u001b[39m\u001b[38;5;241m.\u001b[39mKriging_model()\u001b[38;5;241m.\u001b[39mfit_pre(\n\u001b[1;32m     22\u001b[0m         \u001b[38;5;28mself\u001b[39m\u001b[38;5;241m.\u001b[39mdata_matrix, \u001b[38;5;28mself\u001b[39m\u001b[38;5;241m.\u001b[39mMeasured_response, \u001b[38;5;28mself\u001b[39m\u001b[38;5;241m.\u001b[39mvirtual_samples,\u001b[38;5;241m0.0\u001b[39m)\n",
      "File \u001b[0;32m~/miniconda3/lib/python3.9/site-packages/Bgolearn/BGOsampling.py:108\u001b[0m, in \u001b[0;36mBgolearn.fit.<locals>.Kriging_model.fit_pre\u001b[0;34m(self, xtrain, ytrain, xtest)\u001b[0m\n\u001b[1;32m    105\u001b[0m \u001b[38;5;28;01mdef\u001b[39;00m \u001b[38;5;21mfit_pre\u001b[39m(\u001b[38;5;28mself\u001b[39m,xtrain,ytrain,xtest,):\n\u001b[1;32m    106\u001b[0m     \u001b[38;5;66;03m# estimating Noise Level of training dataset\u001b[39;00m\n\u001b[1;32m    107\u001b[0m     noise_ker \u001b[38;5;241m=\u001b[39m WhiteKernel(noise_level_bounds\u001b[38;5;241m=\u001b[39m(\u001b[38;5;241m0.001\u001b[39m,\u001b[38;5;241m0.5\u001b[39m))\n\u001b[0;32m--> 108\u001b[0m     GPr \u001b[38;5;241m=\u001b[39m \u001b[43mGaussianProcessRegressor\u001b[49m\u001b[43m(\u001b[49m\u001b[43mkernel\u001b[49m\u001b[38;5;241;43m=\u001b[39;49m\u001b[43m \u001b[49m\u001b[38;5;241;43m1\u001b[39;49m\u001b[43m \u001b[49m\u001b[38;5;241;43m*\u001b[39;49m\u001b[43m \u001b[49m\u001b[43mRBF\u001b[49m\u001b[43m(\u001b[49m\u001b[43m)\u001b[49m\u001b[38;5;241;43m+\u001b[39;49m\u001b[43mnoise_ker\u001b[49m\u001b[43m,\u001b[49m\u001b[43mnormalize_y\u001b[49m\u001b[38;5;241;43m=\u001b[39;49m\u001b[38;5;28;43;01mTrue\u001b[39;49;00m\u001b[43m)\u001b[49m\u001b[38;5;241;43m.\u001b[39;49m\u001b[43mfit\u001b[49m\u001b[43m(\u001b[49m\u001b[43mxtrain\u001b[49m\u001b[43m,\u001b[49m\u001b[43mytrain\u001b[49m\u001b[43m)\u001b[49m\n\u001b[1;32m    109\u001b[0m     noise_level \u001b[38;5;241m=\u001b[39m np\u001b[38;5;241m.\u001b[39mexp(GPr\u001b[38;5;241m.\u001b[39mkernel_\u001b[38;5;241m.\u001b[39mtheta[\u001b[38;5;241m1\u001b[39m])\n\u001b[1;32m    111\u001b[0m     \u001b[38;5;66;03m# ret_std is a placeholder for homogenous noise\u001b[39;00m\n\u001b[1;32m    112\u001b[0m     \u001b[38;5;66;03m# instantiated mode\u001b[39;00m\n",
      "File \u001b[0;32m~/miniconda3/lib/python3.9/site-packages/sklearn/gaussian_process/_gpr.py:237\u001b[0m, in \u001b[0;36mGaussianProcessRegressor.fit\u001b[0;34m(self, X, y)\u001b[0m\n\u001b[1;32m    235\u001b[0m \u001b[38;5;28;01melse\u001b[39;00m:\n\u001b[1;32m    236\u001b[0m     dtype, ensure_2d \u001b[38;5;241m=\u001b[39m \u001b[38;5;28;01mNone\u001b[39;00m, \u001b[38;5;28;01mFalse\u001b[39;00m\n\u001b[0;32m--> 237\u001b[0m X, y \u001b[38;5;241m=\u001b[39m \u001b[38;5;28;43mself\u001b[39;49m\u001b[38;5;241;43m.\u001b[39;49m\u001b[43m_validate_data\u001b[49m\u001b[43m(\u001b[49m\n\u001b[1;32m    238\u001b[0m \u001b[43m    \u001b[49m\u001b[43mX\u001b[49m\u001b[43m,\u001b[49m\n\u001b[1;32m    239\u001b[0m \u001b[43m    \u001b[49m\u001b[43my\u001b[49m\u001b[43m,\u001b[49m\n\u001b[1;32m    240\u001b[0m \u001b[43m    \u001b[49m\u001b[43mmulti_output\u001b[49m\u001b[38;5;241;43m=\u001b[39;49m\u001b[38;5;28;43;01mTrue\u001b[39;49;00m\u001b[43m,\u001b[49m\n\u001b[1;32m    241\u001b[0m \u001b[43m    \u001b[49m\u001b[43my_numeric\u001b[49m\u001b[38;5;241;43m=\u001b[39;49m\u001b[38;5;28;43;01mTrue\u001b[39;49;00m\u001b[43m,\u001b[49m\n\u001b[1;32m    242\u001b[0m \u001b[43m    \u001b[49m\u001b[43mensure_2d\u001b[49m\u001b[38;5;241;43m=\u001b[39;49m\u001b[43mensure_2d\u001b[49m\u001b[43m,\u001b[49m\n\u001b[1;32m    243\u001b[0m \u001b[43m    \u001b[49m\u001b[43mdtype\u001b[49m\u001b[38;5;241;43m=\u001b[39;49m\u001b[43mdtype\u001b[49m\u001b[43m,\u001b[49m\n\u001b[1;32m    244\u001b[0m \u001b[43m\u001b[49m\u001b[43m)\u001b[49m\n\u001b[1;32m    246\u001b[0m \u001b[38;5;66;03m# Normalize target value\u001b[39;00m\n\u001b[1;32m    247\u001b[0m \u001b[38;5;28;01mif\u001b[39;00m \u001b[38;5;28mself\u001b[39m\u001b[38;5;241m.\u001b[39mnormalize_y:\n",
      "File \u001b[0;32m~/miniconda3/lib/python3.9/site-packages/sklearn/base.py:584\u001b[0m, in \u001b[0;36mBaseEstimator._validate_data\u001b[0;34m(self, X, y, reset, validate_separately, **check_params)\u001b[0m\n\u001b[1;32m    582\u001b[0m         y \u001b[38;5;241m=\u001b[39m check_array(y, input_name\u001b[38;5;241m=\u001b[39m\u001b[38;5;124m\"\u001b[39m\u001b[38;5;124my\u001b[39m\u001b[38;5;124m\"\u001b[39m, \u001b[38;5;241m*\u001b[39m\u001b[38;5;241m*\u001b[39mcheck_y_params)\n\u001b[1;32m    583\u001b[0m     \u001b[38;5;28;01melse\u001b[39;00m:\n\u001b[0;32m--> 584\u001b[0m         X, y \u001b[38;5;241m=\u001b[39m \u001b[43mcheck_X_y\u001b[49m\u001b[43m(\u001b[49m\u001b[43mX\u001b[49m\u001b[43m,\u001b[49m\u001b[43m \u001b[49m\u001b[43my\u001b[49m\u001b[43m,\u001b[49m\u001b[43m \u001b[49m\u001b[38;5;241;43m*\u001b[39;49m\u001b[38;5;241;43m*\u001b[39;49m\u001b[43mcheck_params\u001b[49m\u001b[43m)\u001b[49m\n\u001b[1;32m    585\u001b[0m     out \u001b[38;5;241m=\u001b[39m X, y\n\u001b[1;32m    587\u001b[0m \u001b[38;5;28;01mif\u001b[39;00m \u001b[38;5;129;01mnot\u001b[39;00m no_val_X \u001b[38;5;129;01mand\u001b[39;00m check_params\u001b[38;5;241m.\u001b[39mget(\u001b[38;5;124m\"\u001b[39m\u001b[38;5;124mensure_2d\u001b[39m\u001b[38;5;124m\"\u001b[39m, \u001b[38;5;28;01mTrue\u001b[39;00m):\n",
      "File \u001b[0;32m~/miniconda3/lib/python3.9/site-packages/sklearn/utils/validation.py:1106\u001b[0m, in \u001b[0;36mcheck_X_y\u001b[0;34m(X, y, accept_sparse, accept_large_sparse, dtype, order, copy, force_all_finite, ensure_2d, allow_nd, multi_output, ensure_min_samples, ensure_min_features, y_numeric, estimator)\u001b[0m\n\u001b[1;32m   1101\u001b[0m         estimator_name \u001b[38;5;241m=\u001b[39m _check_estimator_name(estimator)\n\u001b[1;32m   1102\u001b[0m     \u001b[38;5;28;01mraise\u001b[39;00m \u001b[38;5;167;01mValueError\u001b[39;00m(\n\u001b[1;32m   1103\u001b[0m         \u001b[38;5;124mf\u001b[39m\u001b[38;5;124m\"\u001b[39m\u001b[38;5;132;01m{\u001b[39;00mestimator_name\u001b[38;5;132;01m}\u001b[39;00m\u001b[38;5;124m requires y to be passed, but the target y is None\u001b[39m\u001b[38;5;124m\"\u001b[39m\n\u001b[1;32m   1104\u001b[0m     )\n\u001b[0;32m-> 1106\u001b[0m X \u001b[38;5;241m=\u001b[39m \u001b[43mcheck_array\u001b[49m\u001b[43m(\u001b[49m\n\u001b[1;32m   1107\u001b[0m \u001b[43m    \u001b[49m\u001b[43mX\u001b[49m\u001b[43m,\u001b[49m\n\u001b[1;32m   1108\u001b[0m \u001b[43m    \u001b[49m\u001b[43maccept_sparse\u001b[49m\u001b[38;5;241;43m=\u001b[39;49m\u001b[43maccept_sparse\u001b[49m\u001b[43m,\u001b[49m\n\u001b[1;32m   1109\u001b[0m \u001b[43m    \u001b[49m\u001b[43maccept_large_sparse\u001b[49m\u001b[38;5;241;43m=\u001b[39;49m\u001b[43maccept_large_sparse\u001b[49m\u001b[43m,\u001b[49m\n\u001b[1;32m   1110\u001b[0m \u001b[43m    \u001b[49m\u001b[43mdtype\u001b[49m\u001b[38;5;241;43m=\u001b[39;49m\u001b[43mdtype\u001b[49m\u001b[43m,\u001b[49m\n\u001b[1;32m   1111\u001b[0m \u001b[43m    \u001b[49m\u001b[43morder\u001b[49m\u001b[38;5;241;43m=\u001b[39;49m\u001b[43morder\u001b[49m\u001b[43m,\u001b[49m\n\u001b[1;32m   1112\u001b[0m \u001b[43m    \u001b[49m\u001b[43mcopy\u001b[49m\u001b[38;5;241;43m=\u001b[39;49m\u001b[43mcopy\u001b[49m\u001b[43m,\u001b[49m\n\u001b[1;32m   1113\u001b[0m \u001b[43m    \u001b[49m\u001b[43mforce_all_finite\u001b[49m\u001b[38;5;241;43m=\u001b[39;49m\u001b[43mforce_all_finite\u001b[49m\u001b[43m,\u001b[49m\n\u001b[1;32m   1114\u001b[0m \u001b[43m    \u001b[49m\u001b[43mensure_2d\u001b[49m\u001b[38;5;241;43m=\u001b[39;49m\u001b[43mensure_2d\u001b[49m\u001b[43m,\u001b[49m\n\u001b[1;32m   1115\u001b[0m \u001b[43m    \u001b[49m\u001b[43mallow_nd\u001b[49m\u001b[38;5;241;43m=\u001b[39;49m\u001b[43mallow_nd\u001b[49m\u001b[43m,\u001b[49m\n\u001b[1;32m   1116\u001b[0m \u001b[43m    \u001b[49m\u001b[43mensure_min_samples\u001b[49m\u001b[38;5;241;43m=\u001b[39;49m\u001b[43mensure_min_samples\u001b[49m\u001b[43m,\u001b[49m\n\u001b[1;32m   1117\u001b[0m \u001b[43m    \u001b[49m\u001b[43mensure_min_features\u001b[49m\u001b[38;5;241;43m=\u001b[39;49m\u001b[43mensure_min_features\u001b[49m\u001b[43m,\u001b[49m\n\u001b[1;32m   1118\u001b[0m \u001b[43m    \u001b[49m\u001b[43mestimator\u001b[49m\u001b[38;5;241;43m=\u001b[39;49m\u001b[43mestimator\u001b[49m\u001b[43m,\u001b[49m\n\u001b[1;32m   1119\u001b[0m \u001b[43m    \u001b[49m\u001b[43minput_name\u001b[49m\u001b[38;5;241;43m=\u001b[39;49m\u001b[38;5;124;43m\"\u001b[39;49m\u001b[38;5;124;43mX\u001b[39;49m\u001b[38;5;124;43m\"\u001b[39;49m\u001b[43m,\u001b[49m\n\u001b[1;32m   1120\u001b[0m \u001b[43m\u001b[49m\u001b[43m)\u001b[49m\n\u001b[1;32m   1122\u001b[0m y \u001b[38;5;241m=\u001b[39m _check_y(y, multi_output\u001b[38;5;241m=\u001b[39mmulti_output, y_numeric\u001b[38;5;241m=\u001b[39my_numeric, estimator\u001b[38;5;241m=\u001b[39mestimator)\n\u001b[1;32m   1124\u001b[0m check_consistent_length(X, y)\n",
      "File \u001b[0;32m~/miniconda3/lib/python3.9/site-packages/sklearn/utils/validation.py:879\u001b[0m, in \u001b[0;36mcheck_array\u001b[0;34m(array, accept_sparse, accept_large_sparse, dtype, order, copy, force_all_finite, ensure_2d, allow_nd, ensure_min_samples, ensure_min_features, estimator, input_name)\u001b[0m\n\u001b[1;32m    877\u001b[0m         array \u001b[38;5;241m=\u001b[39m xp\u001b[38;5;241m.\u001b[39mastype(array, dtype, copy\u001b[38;5;241m=\u001b[39m\u001b[38;5;28;01mFalse\u001b[39;00m)\n\u001b[1;32m    878\u001b[0m     \u001b[38;5;28;01melse\u001b[39;00m:\n\u001b[0;32m--> 879\u001b[0m         array \u001b[38;5;241m=\u001b[39m \u001b[43m_asarray_with_order\u001b[49m\u001b[43m(\u001b[49m\u001b[43marray\u001b[49m\u001b[43m,\u001b[49m\u001b[43m \u001b[49m\u001b[43morder\u001b[49m\u001b[38;5;241;43m=\u001b[39;49m\u001b[43morder\u001b[49m\u001b[43m,\u001b[49m\u001b[43m \u001b[49m\u001b[43mdtype\u001b[49m\u001b[38;5;241;43m=\u001b[39;49m\u001b[43mdtype\u001b[49m\u001b[43m,\u001b[49m\u001b[43m \u001b[49m\u001b[43mxp\u001b[49m\u001b[38;5;241;43m=\u001b[39;49m\u001b[43mxp\u001b[49m\u001b[43m)\u001b[49m\n\u001b[1;32m    880\u001b[0m \u001b[38;5;28;01mexcept\u001b[39;00m ComplexWarning \u001b[38;5;28;01mas\u001b[39;00m complex_warning:\n\u001b[1;32m    881\u001b[0m     \u001b[38;5;28;01mraise\u001b[39;00m \u001b[38;5;167;01mValueError\u001b[39;00m(\n\u001b[1;32m    882\u001b[0m         \u001b[38;5;124m\"\u001b[39m\u001b[38;5;124mComplex data not supported\u001b[39m\u001b[38;5;130;01m\\n\u001b[39;00m\u001b[38;5;132;01m{}\u001b[39;00m\u001b[38;5;130;01m\\n\u001b[39;00m\u001b[38;5;124m\"\u001b[39m\u001b[38;5;241m.\u001b[39mformat(array)\n\u001b[1;32m    883\u001b[0m     ) \u001b[38;5;28;01mfrom\u001b[39;00m \u001b[38;5;21;01mcomplex_warning\u001b[39;00m\n",
      "File \u001b[0;32m~/miniconda3/lib/python3.9/site-packages/sklearn/utils/_array_api.py:185\u001b[0m, in \u001b[0;36m_asarray_with_order\u001b[0;34m(array, dtype, order, copy, xp)\u001b[0m\n\u001b[1;32m    182\u001b[0m     xp, _ \u001b[38;5;241m=\u001b[39m get_namespace(array)\n\u001b[1;32m    183\u001b[0m \u001b[38;5;28;01mif\u001b[39;00m xp\u001b[38;5;241m.\u001b[39m\u001b[38;5;18m__name__\u001b[39m \u001b[38;5;129;01min\u001b[39;00m {\u001b[38;5;124m\"\u001b[39m\u001b[38;5;124mnumpy\u001b[39m\u001b[38;5;124m\"\u001b[39m, \u001b[38;5;124m\"\u001b[39m\u001b[38;5;124mnumpy.array_api\u001b[39m\u001b[38;5;124m\"\u001b[39m}:\n\u001b[1;32m    184\u001b[0m     \u001b[38;5;66;03m# Use NumPy API to support order\u001b[39;00m\n\u001b[0;32m--> 185\u001b[0m     array \u001b[38;5;241m=\u001b[39m \u001b[43mnumpy\u001b[49m\u001b[38;5;241;43m.\u001b[39;49m\u001b[43masarray\u001b[49m\u001b[43m(\u001b[49m\u001b[43marray\u001b[49m\u001b[43m,\u001b[49m\u001b[43m \u001b[49m\u001b[43morder\u001b[49m\u001b[38;5;241;43m=\u001b[39;49m\u001b[43morder\u001b[49m\u001b[43m,\u001b[49m\u001b[43m \u001b[49m\u001b[43mdtype\u001b[49m\u001b[38;5;241;43m=\u001b[39;49m\u001b[43mdtype\u001b[49m\u001b[43m)\u001b[49m\n\u001b[1;32m    186\u001b[0m     \u001b[38;5;28;01mreturn\u001b[39;00m xp\u001b[38;5;241m.\u001b[39masarray(array, copy\u001b[38;5;241m=\u001b[39mcopy)\n\u001b[1;32m    187\u001b[0m \u001b[38;5;28;01melse\u001b[39;00m:\n",
      "\u001b[0;31mValueError\u001b[0m: setting an array element with a sequence."
     ]
    }
   ],
   "source": [
    "import sys\n",
    "import pandas as pd\n",
    "Yourdir = '/Users/jacob/Documents/GitHub/'\n",
    "\n",
    "sys.path.append(Yourdir)\n",
    "\n",
    "from PyWPEM import WPEM\n",
    "\n",
    "\n",
    "WPEM.SubstitutionalSearch('wpem.csv','Mn2O3.cif',wavelength='CuKa',SolventAtom = 'Mn3+', \n",
    "                          SoluteAtom= 'Ru',max_iter = 100)"
   ]
  },
  {
   "cell_type": "code",
   "execution_count": 4,
   "id": "0bf99ae7",
   "metadata": {},
   "outputs": [
    {
     "name": "stdout",
     "output_type": "stream",
     "text": [
      "Requirement already satisfied: Bgolearn in /Users/jacob/miniconda3/lib/python3.9/site-packages (2.1.1)\n",
      "Requirement already satisfied: scipy in /Users/jacob/miniconda3/lib/python3.9/site-packages (from Bgolearn) (1.9.3)\n",
      "Requirement already satisfied: scikit-learn in /Users/jacob/miniconda3/lib/python3.9/site-packages (from Bgolearn) (1.2.2)\n",
      "Requirement already satisfied: pandas in /Users/jacob/miniconda3/lib/python3.9/site-packages (from Bgolearn) (1.5.1)\n",
      "Requirement already satisfied: numpy in /Users/jacob/miniconda3/lib/python3.9/site-packages (from Bgolearn) (1.23.3)\n",
      "Requirement already satisfied: matplotlib in /Users/jacob/miniconda3/lib/python3.9/site-packages (from Bgolearn) (3.7.1)\n",
      "Requirement already satisfied: contourpy>=1.0.1 in /Users/jacob/miniconda3/lib/python3.9/site-packages (from matplotlib->Bgolearn) (1.0.5)\n",
      "Requirement already satisfied: cycler>=0.10 in /Users/jacob/miniconda3/lib/python3.9/site-packages (from matplotlib->Bgolearn) (0.11.0)\n",
      "Requirement already satisfied: fonttools>=4.22.0 in /Users/jacob/miniconda3/lib/python3.9/site-packages (from matplotlib->Bgolearn) (4.38.0)\n",
      "Requirement already satisfied: kiwisolver>=1.0.1 in /Users/jacob/miniconda3/lib/python3.9/site-packages (from matplotlib->Bgolearn) (1.4.4)\n",
      "Requirement already satisfied: packaging>=20.0 in /Users/jacob/miniconda3/lib/python3.9/site-packages (from matplotlib->Bgolearn) (21.3)\n",
      "Requirement already satisfied: pillow>=6.2.0 in /Users/jacob/miniconda3/lib/python3.9/site-packages (from matplotlib->Bgolearn) (9.5.0)\n",
      "Requirement already satisfied: pyparsing>=2.3.1 in /Users/jacob/miniconda3/lib/python3.9/site-packages (from matplotlib->Bgolearn) (3.0.9)\n",
      "Requirement already satisfied: python-dateutil>=2.7 in /Users/jacob/miniconda3/lib/python3.9/site-packages (from matplotlib->Bgolearn) (2.8.2)\n",
      "Requirement already satisfied: importlib-resources>=3.2.0 in /Users/jacob/miniconda3/lib/python3.9/site-packages (from matplotlib->Bgolearn) (5.12.0)\n",
      "Requirement already satisfied: pytz>=2020.1 in /Users/jacob/miniconda3/lib/python3.9/site-packages (from pandas->Bgolearn) (2022.5)\n",
      "Requirement already satisfied: joblib>=1.1.1 in /Users/jacob/miniconda3/lib/python3.9/site-packages (from scikit-learn->Bgolearn) (1.2.0)\n",
      "Requirement already satisfied: threadpoolctl>=2.0.0 in /Users/jacob/miniconda3/lib/python3.9/site-packages (from scikit-learn->Bgolearn) (3.1.0)\n",
      "Requirement already satisfied: zipp>=3.1.0 in /Users/jacob/miniconda3/lib/python3.9/site-packages (from importlib-resources>=3.2.0->matplotlib->Bgolearn) (3.9.0)\n",
      "Requirement already satisfied: six>=1.5 in /Users/jacob/miniconda3/lib/python3.9/site-packages (from python-dateutil>=2.7->matplotlib->Bgolearn) (1.16.0)\n",
      "Note: you may need to restart the kernel to use updated packages.\n"
     ]
    }
   ],
   "source": [
    "pip install Bgolearn "
   ]
  },
  {
   "cell_type": "code",
   "execution_count": 2,
   "id": "749e8810",
   "metadata": {},
   "outputs": [
    {
     "name": "stdout",
     "output_type": "stream",
     "text": [
      "[1, 2, 4, 5]\n"
     ]
    }
   ],
   "source": [
    "my_list = [1, 2, 3, 4, 5]\n",
    "\n",
    "# Remove the element 3\n",
    "my_list.remove(3)\n",
    "\n",
    "print(my_list)\n"
   ]
  },
  {
   "cell_type": "code",
   "execution_count": 6,
   "id": "d3e08efb",
   "metadata": {},
   "outputs": [
    {
     "name": "stdout",
     "output_type": "stream",
     "text": [
      "['Mn3+', 0.25, 0.25, 0.25]\n",
      "['Mn3+', 0.021, 0.0, 0.25]\n",
      "['Mn3+', 0.542, 0.0, 0.25]\n",
      "['O2-', 0.125, 0.125, 0.375]\n",
      "['O2-', 0.125, 0.375, 0.375]\n"
     ]
    }
   ],
   "source": [
    "import numpy as np\n",
    "\n",
    "encoded_features_with_coordinates = np.array([[1., 0., 0.,   0.25, 0.25, 0.25],\n",
    "                                              [1., 0., 0.,  0.021, 0.0, 0.25],\n",
    "                                              [1., 0., 0.,  0.542, 0.0, 0.25],\n",
    "                                              [0., 1., 0.,  0.125, 0.125, 0.375],\n",
    "                                              [0., 1., 0.,  0.125, 0.375, 0.375]])\n",
    "\n",
    "# 恢复原始列表形式\n",
    "restored_features = []\n",
    "for encoded_feature in encoded_features_with_coordinates:\n",
    "    label = ['Mn3+', 'O2-'][np.argmax(encoded_feature[:3])]\n",
    "    coordinates = encoded_feature[3:].tolist()\n",
    "    feature = [label] + coordinates\n",
    "    restored_features.append(feature)\n",
    "\n",
    "# 打印恢复后的特征列表\n",
    "for feature in restored_features:\n",
    "    print(feature)\n"
   ]
  },
  {
   "cell_type": "code",
   "execution_count": 8,
   "id": "89dd5cd9",
   "metadata": {},
   "outputs": [],
   "source": [
    "def one_hot_code(atom_coordinat,SoluteAtom):\n",
    "    feature_categories = set([item[0] for item in atom_coordinat]) | {SoluteAtom}\n",
    "    encoder = OneHotEncoder(categories=[list(feature_categories)], sparse=False)\n",
    "    feature_columns = np.array(atom_coordinat)[:, 0].reshape(-1, 1)\n",
    "    encoded_features = encoder.fit_transform(feature_columns)\n",
    "    encoded_features_with_coordinates = np.hstack((encoded_features, np.array(atom_coordinat)[:, 1:])).flatten().astype(float)\n",
    "\n",
    "    return encoded_features_with_coordinates"
   ]
  },
  {
   "cell_type": "code",
   "execution_count": 15,
   "id": "f0f8d824",
   "metadata": {},
   "outputs": [],
   "source": [
    "a = [['Mn3+', 0.25, 0.25, 0.25],\n",
    "['Mn3+', 0.021, 0.0, 0.25],\n",
    "['Mn3+', 0.542, 0.0, 0.25],\n",
    "['T3+', 0.542, 0.0, 0.25],\n",
    "['O2-', 0.125, 0.125, 0.375],\n",
    "['O2-', 0.125, 0.375, 0.375]]"
   ]
  },
  {
   "cell_type": "code",
   "execution_count": 16,
   "id": "37a87812",
   "metadata": {},
   "outputs": [
    {
     "data": {
      "text/plain": [
       "array([1.   , 0.   , 0.   , 0.25 , 0.25 , 0.25 , 1.   , 0.   , 0.   ,\n",
       "       0.021, 0.   , 0.25 , 1.   , 0.   , 0.   , 0.542, 0.   , 0.25 ,\n",
       "       0.   , 0.   , 1.   , 0.542, 0.   , 0.25 , 0.   , 1.   , 0.   ,\n",
       "       0.125, 0.125, 0.375, 0.   , 1.   , 0.   , 0.125, 0.375, 0.375])"
      ]
     },
     "execution_count": 16,
     "metadata": {},
     "output_type": "execute_result"
    }
   ],
   "source": [
    "one_hot_code(a,'T3+')"
   ]
  },
  {
   "cell_type": "code",
   "execution_count": 11,
   "id": "d38df23e",
   "metadata": {},
   "outputs": [],
   "source": [
    "import numpy as np\n",
    "from sklearn.preprocessing import OneHotEncoder"
   ]
  },
  {
   "cell_type": "code",
   "execution_count": 7,
   "id": "809bba39",
   "metadata": {},
   "outputs": [
    {
     "name": "stdout",
     "output_type": "stream",
     "text": [
      "[0.99244289]\n",
      "[6.30061232]\n"
     ]
    }
   ],
   "source": [
    "import numpy as np\n",
    "from sklearn.decomposition import PCA\n",
    "X = np.array([[-1, -1], [-2, -1], [-3, -2], [1, 1], [2, 1], [3, 2]])\n",
    "pca = PCA(n_components=1)\n",
    "pca.fit(X)\n",
    "\n",
    "print(pca.explained_variance_ratio_)\n",
    "\n",
    "print(pca.singular_values_)"
   ]
  },
  {
   "cell_type": "code",
   "execution_count": 9,
   "id": "c50b46a4",
   "metadata": {},
   "outputs": [
    {
     "data": {
      "text/plain": [
       "array([[-0.83849224, -0.54491354]])"
      ]
     },
     "execution_count": 9,
     "metadata": {},
     "output_type": "execute_result"
    }
   ],
   "source": [
    "pca.components_"
   ]
  },
  {
   "cell_type": "code",
   "execution_count": 11,
   "id": "469699cf",
   "metadata": {},
   "outputs": [
    {
     "ename": "TypeError",
     "evalue": "dot() missing 1 required positional argument: 'b'",
     "output_type": "error",
     "traceback": [
      "\u001b[0;31m---------------------------------------------------------------------------\u001b[0m",
      "\u001b[0;31mTypeError\u001b[0m                                 Traceback (most recent call last)",
      "Cell \u001b[0;32mIn[11], line 1\u001b[0m\n\u001b[0;32m----> 1\u001b[0m \u001b[43mnp\u001b[49m\u001b[38;5;241;43m.\u001b[39;49m\u001b[43mdot\u001b[49m\u001b[43m(\u001b[49m\u001b[43m \u001b[49m\u001b[43m(\u001b[49m\u001b[43mnp\u001b[49m\u001b[38;5;241;43m.\u001b[39;49m\u001b[43marray\u001b[49m\u001b[43m(\u001b[49m\u001b[43mX\u001b[49m\u001b[43m)\u001b[49m\u001b[43m)\u001b[49m\u001b[38;5;241;43m*\u001b[39;49m\u001b[43m \u001b[49m\u001b[43mnp\u001b[49m\u001b[38;5;241;43m.\u001b[39;49m\u001b[43marray\u001b[49m\u001b[43m(\u001b[49m\u001b[43mpca\u001b[49m\u001b[38;5;241;43m.\u001b[39;49m\u001b[43mcomponents_\u001b[49m\u001b[43m)\u001b[49m\u001b[43m)\u001b[49m\n",
      "File \u001b[0;32m<__array_function__ internals>:179\u001b[0m, in \u001b[0;36mdot\u001b[0;34m(*args, **kwargs)\u001b[0m\n",
      "\u001b[0;31mTypeError\u001b[0m: dot() missing 1 required positional argument: 'b'"
     ]
    }
   ],
   "source": [
    "np.dot( np.array(X)* np.array(pca.components_))"
   ]
  },
  {
   "cell_type": "code",
   "execution_count": null,
   "id": "1df9e6d5",
   "metadata": {},
   "outputs": [],
   "source": []
  }
 ],
 "metadata": {
  "kernelspec": {
   "display_name": "Python 3 (ipykernel)",
   "language": "python",
   "name": "python3"
  },
  "language_info": {
   "codemirror_mode": {
    "name": "ipython",
    "version": 3
   },
   "file_extension": ".py",
   "mimetype": "text/x-python",
   "name": "python",
   "nbconvert_exporter": "python",
   "pygments_lexer": "ipython3",
   "version": "3.9.12"
  }
 },
 "nbformat": 4,
 "nbformat_minor": 5
}
